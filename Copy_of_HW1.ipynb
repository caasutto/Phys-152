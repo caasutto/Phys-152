{
  "cells": [
    {
      "cell_type": "markdown",
      "metadata": {
        "id": "view-in-github",
        "colab_type": "text"
      },
      "source": [
        "<a href=\"https://colab.research.google.com/github/caasutto/Phys-152/blob/main/Copy_of_HW1.ipynb\" target=\"_parent\"><img src=\"https://colab.research.google.com/assets/colab-badge.svg\" alt=\"Open In Colab\"/></a>"
      ]
    },
    {
      "cell_type": "markdown",
      "metadata": {
        "id": "qyzlOAYz0abj"
      },
      "source": [
        "# Homework 1"
      ]
    },
    {
      "cell_type": "markdown",
      "metadata": {
        "id": "-lLt3FGv0flg"
      },
      "source": [
        "We'll use the first assignment to make sure everyone is comfortable with some basic python.  We'll be doing all of our HW assignments in Jupyter notebooks, and submitting assigments by committing notebooks to your own gitlab repository (that you've shared with me).  "
      ]
    },
    {
      "cell_type": "markdown",
      "metadata": {
        "id": "e-r3fsIX04yh"
      },
      "source": [
        "The first part of a notebook should always be the libraries we'll use in the rest of the notebook.  We include them at the top so we know what packages we may need to download and/or install."
      ]
    },
    {
      "cell_type": "code",
      "execution_count": null,
      "metadata": {
        "id": "SwhoQCFTzC6w"
      },
      "outputs": [],
      "source": [
        "%matplotlib inline\n",
        "import matplotlib.pyplot as plt\n",
        "import numpy as np\n",
        "import matplotlib as mpl\n",
        "import math"
      ]
    },
    {
      "cell_type": "markdown",
      "metadata": {
        "id": "rrGmoc891CtF"
      },
      "source": [
        "If we're working in Google Colab, we'll also want to give Colab access to our Google Drive space, so that we can get other python code, data files, and other things that may be needed as part of the assignment.  Executing the cell below should open a browser window that prompts you to connect the notebook to Google Drive."
      ]
    },
    {
      "cell_type": "code",
      "execution_count": null,
      "metadata": {
        "colab": {
          "base_uri": "https://localhost:8080/"
        },
        "id": "rsxrVKD31PvC",
        "outputId": "9f1b5340-b403-4d2f-c479-98c7756e5e8e"
      },
      "outputs": [
        {
          "output_type": "stream",
          "name": "stdout",
          "text": [
            "Mounted at /content/gdrive\n"
          ]
        }
      ],
      "source": [
        "try:\n",
        "  import google.colab\n",
        "  IN_COLAB = True\n",
        "except:\n",
        "  IN_COLAB = False\n",
        "\n",
        "if IN_COLAB:\n",
        "  from google.colab import drive\n",
        "  drive.mount('/content/gdrive')"
      ]
    },
    {
      "cell_type": "markdown",
      "metadata": {
        "id": "7NwF0GKe1q0Q"
      },
      "source": [
        "We should see \"Mounted at /content/gdrive\" above if everything worked.  Now try to create a file, put something into it, check that it worked, then remove the file:"
      ]
    },
    {
      "cell_type": "code",
      "execution_count": null,
      "metadata": {
        "colab": {
          "base_uri": "https://localhost:8080/"
        },
        "id": "tPBncQh-16x8",
        "outputId": "254198a9-da58-42f9-fcb9-e574e7695ea0"
      },
      "outputs": [
        {
          "output_type": "stream",
          "name": "stdout",
          "text": [
            "gdrive\tmyHW1test.txt  sample_data\n",
            "PHYS 152 is the best!\n",
            "gdrive\tsample_data\n"
          ]
        }
      ],
      "source": [
        "if IN_COLAB:\n",
        "    !echo \"PHYS 152 is the best!\" > myHW1test.txt    # Create a new file that contains some text\n",
        "    !ls .                                            # Check that the file was created\n",
        "    !cat myHW1test.txt                               # Look at the contents of the file\n",
        "    !rm myHW1test.txt                                # Remove the file\n",
        "    !ls .                                            # Check that the file was removed"
      ]
    },
    {
      "cell_type": "markdown",
      "metadata": {
        "id": "pdp0bMb4Ok3e"
      },
      "source": [
        "# Some Basics"
      ]
    },
    {
      "cell_type": "markdown",
      "metadata": {
        "id": "HJDhYejEzTq1"
      },
      "source": [
        "First let's go through some basics of python, numpy, and plotting.  I assume a basic familiarity with python, so we'll start right up with numerical methods.\n"
      ]
    },
    {
      "cell_type": "code",
      "execution_count": null,
      "metadata": {
        "id": "4OSB15pjzePo"
      },
      "outputs": [],
      "source": [
        "def create_python_array(n=100):\n",
        "    y = []\n",
        "    for x in range(n):\n",
        "        y.append(math.sin(math.pi * x / n))\n",
        "    return y"
      ]
    },
    {
      "cell_type": "code",
      "execution_count": null,
      "metadata": {
        "colab": {
          "base_uri": "https://localhost:8080/"
        },
        "id": "_cd_OsUb3tby",
        "outputId": "249eb527-c1d1-4c1c-a54d-f3bf3cdcd297"
      },
      "outputs": [
        {
          "output_type": "stream",
          "name": "stdout",
          "text": [
            "CPU times: user 345 ms, sys: 44.9 ms, total: 389 ms\n",
            "Wall time: 404 ms\n"
          ]
        }
      ],
      "source": [
        "%time y1=create_python_array(int(1e6))"
      ]
    },
    {
      "cell_type": "markdown",
      "metadata": {
        "id": "E6XwRGCK4Y4v"
      },
      "source": [
        "This gives us a list of values, which can be manipulated in all sorts of crazy ways:"
      ]
    },
    {
      "cell_type": "code",
      "execution_count": null,
      "metadata": {
        "id": "KDmtux9e30rQ"
      },
      "outputs": [],
      "source": [
        "y1[2]=\"This is not a number\"\n",
        "y1.append(-1)"
      ]
    },
    {
      "cell_type": "markdown",
      "metadata": {
        "id": "FtM18ZiP47Uf"
      },
      "source": [
        "Now let's do something similar with numpy arrays:"
      ]
    },
    {
      "cell_type": "code",
      "execution_count": null,
      "metadata": {
        "id": "ctkKKGde4RPP"
      },
      "outputs": [],
      "source": [
        "def create_numpy_array(n=100):\n",
        "    x = np.arange(n)\n",
        "    y = np.sin(np.pi * x / n)\n",
        "    return x,y"
      ]
    },
    {
      "cell_type": "code",
      "execution_count": null,
      "metadata": {
        "colab": {
          "base_uri": "https://localhost:8080/"
        },
        "id": "to_X-vLr55M2",
        "outputId": "852aa3b0-7b5d-481e-fe5e-01a3f1524f4c"
      },
      "outputs": [
        {
          "output_type": "stream",
          "name": "stdout",
          "text": [
            "CPU times: user 23.3 ms, sys: 13.5 ms, total: 36.8 ms\n",
            "Wall time: 44 ms\n",
            "[     0      1      2 ... 999997 999998 999999]\n"
          ]
        }
      ],
      "source": [
        "%time x,y2=create_numpy_array(int(1e6))\n",
        "print(x)"
      ]
    },
    {
      "cell_type": "markdown",
      "metadata": {
        "id": "R_5qF_th6HN-"
      },
      "source": [
        "This went much faster, and now this structure can only hold numbers.  Note the use of `np.arange(n)`, which made an array integers from `0` to `n-1`:"
      ]
    },
    {
      "cell_type": "code",
      "execution_count": null,
      "metadata": {
        "colab": {
          "base_uri": "https://localhost:8080/"
        },
        "id": "XIukkmFf6Csp",
        "outputId": "80e79118-432e-4633-804a-a1c81145bf0f"
      },
      "outputs": [
        {
          "output_type": "execute_result",
          "data": {
            "text/plain": [
              "array([0, 1, 2, 3, 4, 5, 6, 7, 8, 9])"
            ]
          },
          "metadata": {},
          "execution_count": 9
        }
      ],
      "source": [
        "np.arange(10)"
      ]
    },
    {
      "cell_type": "markdown",
      "metadata": {
        "id": "R_X90AHU6kPc"
      },
      "source": [
        "We can use `np.linspace` to create an array of floats with some constant spacing.  Note it takes 11 steps to go from 0 to 1.0 (inclusive) in steps of 0.1!"
      ]
    },
    {
      "cell_type": "code",
      "execution_count": null,
      "metadata": {
        "colab": {
          "base_uri": "https://localhost:8080/"
        },
        "id": "gAk_KzD76fPJ",
        "outputId": "cd90e54f-b65a-4340-d621-addf7a2cf337"
      },
      "outputs": [
        {
          "output_type": "execute_result",
          "data": {
            "text/plain": [
              "array([0. , 0.1, 0.2, 0.3, 0.4, 0.5, 0.6, 0.7, 0.8, 0.9, 1. ])"
            ]
          },
          "metadata": {},
          "execution_count": 10
        }
      ],
      "source": [
        "np.linspace(0,1,11)"
      ]
    },
    {
      "cell_type": "markdown",
      "metadata": {
        "id": "yiXTG7D_7FE8"
      },
      "source": [
        "With this, now we can plot the results of our functions above:"
      ]
    },
    {
      "cell_type": "code",
      "execution_count": null,
      "metadata": {
        "colab": {
          "base_uri": "https://localhost:8080/",
          "height": 295
        },
        "id": "HTzPOGfQ6vG9",
        "outputId": "f43849fd-ff1e-4f44-8e12-69e5c38ec9e6"
      },
      "outputs": [
        {
          "output_type": "execute_result",
          "data": {
            "text/plain": [
              "[<matplotlib.lines.Line2D at 0x7fb600ad7790>]"
            ]
          },
          "metadata": {},
          "execution_count": 11
        },
        {
          "output_type": "display_data",
          "data": {
            "text/plain": [
              "<Figure size 432x288 with 1 Axes>"
            ],
            "image/png": "[encoded data removed]"
          },
          "metadata": {
            "needs_background": "light"
          }
        }
      ],
      "source": [
        "plt.plot(x,y2)"
      ]
    },
    {
      "cell_type": "markdown",
      "metadata": {
        "id": "1ltHZuoZ8KO3"
      },
      "source": [
        "This is a start, but let's make this a proper plot, with some axis labels and so on."
      ]
    },
    {
      "cell_type": "code",
      "execution_count": null,
      "metadata": {
        "colab": {
          "base_uri": "https://localhost:8080/",
          "height": 278
        },
        "id": "QpFtDoRG74zi",
        "outputId": "463216d2-a9f7-4433-f8b3-6fa74c62c2f7"
      },
      "outputs": [
        {
          "output_type": "display_data",
          "data": {
            "text/plain": [
              "<Figure size 432x288 with 1 Axes>"
            ],
            "image/png": "[encoded data removed]"
          },
          "metadata": {
            "needs_background": "light"
          }
        }
      ],
      "source": [
        "plt.plot(x,y2)\n",
        "plt.ylabel(\"$\\sin(\\pi*x/n)$\")\n",
        "plt.xlabel(\"x\")\n",
        "plt.show()"
      ]
    },
    {
      "cell_type": "markdown",
      "metadata": {
        "id": "e8kL1md0ABk_"
      },
      "source": [
        "An even simpler way would be to plot the function directly, and in this example we'll use `np.linspace` and not divide by `n`:"
      ]
    },
    {
      "cell_type": "code",
      "execution_count": null,
      "metadata": {
        "colab": {
          "base_uri": "https://localhost:8080/",
          "height": 313
        },
        "id": "_ZGLVdXE_syv",
        "outputId": "6fbf2e92-2c08-4c68-80a9-217da4b12c4e"
      },
      "outputs": [
        {
          "output_type": "stream",
          "name": "stdout",
          "text": [
            "[0.00000000e+00 3.14159580e-06 6.28319159e-06 ... 6.28319159e-06\n",
            " 3.14159580e-06 1.22464680e-16]\n"
          ]
        },
        {
          "output_type": "display_data",
          "data": {
            "text/plain": [
              "<Figure size 432x288 with 1 Axes>"
            ],
            "image/png": "[encoded data removed]"
          },
          "metadata": {
            "needs_background": "light"
          }
        }
      ],
      "source": [
        "def create_numpy_array_2(xvalues):\n",
        "  y=np.sin(math.pi*xvalues)\n",
        "  print(y)\n",
        "  return y \n",
        "\n",
        "x3=np.linspace(0,1,int(1e6))\n",
        "plt.plot(x3,create_numpy_array_2(x3))\n",
        "plt.ylabel(\"$\\sin(\\pi*x)$\")\n",
        "plt.xlabel(\"x\")\n",
        "plt.show()"
      ]
    },
    {
      "cell_type": "markdown",
      "metadata": {
        "id": "S-FcNAenBqq6"
      },
      "source": [
        "Let's overlay two plots, say `sin` and `cos` to see what they both look like:"
      ]
    },
    {
      "cell_type": "code",
      "execution_count": null,
      "metadata": {
        "colab": {
          "base_uri": "https://localhost:8080/",
          "height": 278
        },
        "id": "XmSoowbw_OdZ",
        "outputId": "7e8b0ffb-d0e8-46df-a546-7e9928397b2a"
      },
      "outputs": [
        {
          "output_type": "display_data",
          "data": {
            "text/plain": [
              "<Figure size 432x288 with 1 Axes>"
            ],
            "image/png": "[encoded data removed]"
          },
          "metadata": {
            "needs_background": "light"
          }
        }
      ],
      "source": [
        "plt.plot(x3,np.sin(math.pi*x3),label=\"$\\sin(\\pi*x)$\")\n",
        "plt.plot(x3,np.cos(math.pi*x3),label=\"$\\cos(\\pi*x)$\")\n",
        "plt.ylabel(\"y\")\n",
        "plt.xlabel(\"x\")\n",
        "plt.legend(fontsize='x-large')\n",
        "plt.show()"
      ]
    },
    {
      "cell_type": "markdown",
      "metadata": {
        "id": "9Flwbg9jHhui"
      },
      "source": [
        "We can also make histograms, showing the frequency of certain elements in a data sample:"
      ]
    },
    {
      "cell_type": "code",
      "execution_count": null,
      "metadata": {
        "colab": {
          "base_uri": "https://localhost:8080/",
          "height": 298
        },
        "id": "nNeqtFyBHnSb",
        "outputId": "5fe1c0d6-f0c6-448f-acf0-3f10d1c562f6"
      },
      "outputs": [
        {
          "output_type": "execute_result",
          "data": {
            "text/plain": [
              "Text(0, 0.5, 'Entries/Bin')"
            ]
          },
          "metadata": {},
          "execution_count": 15
        },
        {
          "output_type": "display_data",
          "data": {
            "text/plain": [
              "<Figure size 432x288 with 1 Axes>"
            ],
            "image/png": "[encoded data removed]"
          },
          "metadata": {
            "needs_background": "light"
          }
        }
      ],
      "source": [
        "counts,bins,_=plt.hist(y2,bins=10,range=(0,1))\n",
        "plt.xlabel(\"y\")\n",
        "plt.ylabel(\"Entries/Bin\")"
      ]
    },
    {
      "cell_type": "markdown",
      "metadata": {
        "id": "Wu-HasdPOu98"
      },
      "source": [
        "where now we have access to the contents of the histogram:"
      ]
    },
    {
      "cell_type": "code",
      "execution_count": null,
      "metadata": {
        "colab": {
          "base_uri": "https://localhost:8080/"
        },
        "id": "lMark_O_Ox6N",
        "outputId": "7cd486ec-9fe4-4468-a447-0bd4aa2ab935"
      },
      "outputs": [
        {
          "output_type": "stream",
          "name": "stdout",
          "text": [
            "[ 63769.  64420.  65784.  68006.  71354.  76332.  83968.  96702. 122532.\n",
            " 287133.]\n",
            "[0.  0.1 0.2 0.3 0.4 0.5 0.6 0.7 0.8 0.9 1. ]\n"
          ]
        }
      ],
      "source": [
        "print(counts) # the \"Entries/Bin\" above\n",
        "print(bins)   # the edges of the bins"
      ]
    },
    {
      "cell_type": "markdown",
      "metadata": {
        "id": "k4AlV8hnhF3i"
      },
      "source": [
        "For our purposes, it is often useful to be able to normalize the distribution to unit area, by using the `density` option:"
      ]
    },
    {
      "cell_type": "code",
      "execution_count": null,
      "metadata": {
        "colab": {
          "base_uri": "https://localhost:8080/",
          "height": 333
        },
        "id": "sX8Nyzh5hF3i",
        "outputId": "6304637b-01e4-445b-ce09-063ef9a04d63"
      },
      "outputs": [
        {
          "output_type": "stream",
          "name": "stdout",
          "text": [
            "[0.63769 0.6442  0.65784 0.68006 0.71354 0.76332 0.83968 0.96702 1.22532\n",
            " 2.87133]\n",
            "[0.  0.1 0.2 0.3 0.4 0.5 0.6 0.7 0.8 0.9 1. ]\n"
          ]
        },
        {
          "output_type": "display_data",
          "data": {
            "text/plain": [
              "<Figure size 432x288 with 1 Axes>"
            ],
            "image/png": "[encoded data removed]"
          },
          "metadata": {
            "needs_background": "light"
          }
        }
      ],
      "source": [
        "counts,bins,_=plt.hist(y2,bins=10,range=(0,1),density=True)\n",
        "plt.xlabel(\"y\")\n",
        "plt.ylabel(\"1/N dN/dy\")\n",
        "print(counts) # the \"Entries/Bin\" above\n",
        "print(bins)   # the edges of the bins"
      ]
    },
    {
      "cell_type": "markdown",
      "metadata": {
        "id": "zzKyV_bsNnwy"
      },
      "source": [
        "# Problem 1 (30 points)\n",
        "\n",
        "\n",
        "Make a plot showing the different activtation functions we discussed in class, in the range from -3 to 3:\n",
        "\n",
        "*   Sigmoid\n",
        "*   tanh\n",
        "*   ReLU\n",
        "\n"
      ]
    },
    {
      "cell_type": "code",
      "execution_count": null,
      "metadata": {
        "id": "0oTLSrq63t1l"
      },
      "outputs": [],
      "source": [
        "#Creating a domain over (-3,3) with 100 steps:\n",
        "\n",
        "xp1=np.linspace(-3,3,int(100))\n",
        "# print(xp1)\n"
      ]
    },
    {
      "cell_type": "code",
      "execution_count": null,
      "metadata": {
        "colab": {
          "base_uri": "https://localhost:8080/",
          "height": 278
        },
        "id": "A6fPCUuOCTi6",
        "outputId": "046b62dc-8b29-425b-9919-44334b8ea7aa"
      },
      "outputs": [
        {
          "output_type": "display_data",
          "data": {
            "text/plain": [
              "<Figure size 432x288 with 1 Axes>"
            ],
            "image/png": "[encoded data removed]"
          },
          "metadata": {
            "needs_background": "light"
          }
        }
      ],
      "source": [
        "# Sigmoid \n",
        "\n",
        "def Sigmoidarray(xv):\n",
        "  \"\"\"Create a discrete array that models the sigmoid function.\n",
        "    \n",
        "    Parameters\n",
        "    ----------\n",
        "    x : array\n",
        "        Numpy array of shape (D,)\n",
        "        \n",
        "    Returns\n",
        "    -------\n",
        "    array\n",
        "        Numpy array of shape (D,) that maps x -> 1/(1+ e^(-x)) \n",
        "  \"\"\"\n",
        "  y=[]\n",
        "  for x in xv:\n",
        "    y.append( 1/(1+ np.e**(-x)))\n",
        "  return y\n",
        "\n",
        "yp1a= Sigmoidarray(xp1)\n",
        "# print(yp1a)\n",
        "\n",
        "# plt.plot(xp1, yp1a, \"g.\" , label=\"y = \\frac{1}{1+ e^(-x)} $\")\n",
        "plt.plot(xp1, yp1a, \"g.\" , label=\"y = 1/(1+ e^(-x)) $\")\n",
        "plt.ylabel(\"y\")\n",
        "plt.xlabel(\"x\")\n",
        "plt.legend(fontsize='x-large')\n",
        "plt.show()"
      ]
    },
    {
      "cell_type": "code",
      "execution_count": null,
      "metadata": {
        "colab": {
          "base_uri": "https://localhost:8080/",
          "height": 278
        },
        "id": "4V8SOyw13HO2",
        "outputId": "4ce4e622-768f-4d26-b2eb-d1be66832ae7"
      },
      "outputs": [
        {
          "output_type": "display_data",
          "data": {
            "text/plain": [
              "<Figure size 432x288 with 1 Axes>"
            ],
            "image/png": "[encoded data removed]"
          },
          "metadata": {
            "needs_background": "light"
          }
        }
      ],
      "source": [
        "#Tanh(x)\n",
        "\n",
        "def tanharray(xv):\n",
        "  \"\"\"Creates an array that models the tanh function.\n",
        "    \n",
        "    Parameters\n",
        "    ----------\n",
        "    x : array\n",
        "        Numpy array of shape (D,)\n",
        "        \n",
        "    Returns\n",
        "    -------\n",
        "    array\n",
        "        Numpy array of shape (D,) that maps x -> tanh(x)) \n",
        "  \"\"\"\n",
        "  y=[]\n",
        "  for x in xv:\n",
        "    y.append( np.tanh(x))\n",
        "  return y\n",
        "\n",
        "\n",
        "yp1b= tanharray(xp1)\n",
        "# print(yp1b)\n",
        "\n",
        "plt.plot(xp1, yp1b, \"b.\" , label=\"y = tanh(x) $\")\n",
        "plt.ylabel(\"y\")\n",
        "plt.xlabel(\"x\")\n",
        "plt.legend(fontsize='x-large')\n",
        "plt.show()"
      ]
    },
    {
      "cell_type": "code",
      "execution_count": null,
      "metadata": {
        "colab": {
          "base_uri": "https://localhost:8080/",
          "height": 278
        },
        "id": "greAoKsL3XaS",
        "outputId": "827de3b6-79af-4c23-8afc-6cbd7e4fd8b2"
      },
      "outputs": [
        {
          "output_type": "display_data",
          "data": {
            "text/plain": [
              "<Figure size 432x288 with 1 Axes>"
            ],
            "image/png": "[encoded data removed]"
          },
          "metadata": {
            "needs_background": "light"
          }
        }
      ],
      "source": [
        "#ReLU\n",
        "from textwrap import wrap\n",
        "from sympy import *\n",
        "init_printing( use_latex='mathjax' )\n",
        "\n",
        "def piecewise(xv):\n",
        "  \"\"\"Creates an array that models the ReLU function.\n",
        "    \n",
        "    Parameters\n",
        "    ----------\n",
        "    x : array\n",
        "        Numpy array of shape (D,)\n",
        "        \n",
        "    Returns\n",
        "    -------\n",
        "    array\n",
        "        Numpy array of shape (D,) that piecewise maps x -> {(0, x<=0) , (0.01x, x>0)) \n",
        "  \"\"\"\n",
        "  y=[]\n",
        "  a=0.01\n",
        "  for x in xv:\n",
        "    if x<=0: \n",
        "      y.append(0)\n",
        "    elif x>0: \n",
        "      y.append (a*x)\n",
        "  return y\n",
        "\n",
        "\n",
        "yp1c= piecewise(xp1)\n",
        "# print(y)\n",
        "# label= \"y={(0, x<=0),(0.01x, x>0)\"\n",
        "# lr = label.replace(' ', '\\n')\n",
        "\n",
        "plt.plot(xp1, yp1c, \"g.\", label= \"y={(0, x<=0) , (0.01x, x>0)\")\n",
        "plt.ylabel(\"y\")\n",
        "plt.xlabel(\"x\")\n",
        "plt.legend(fontsize='x-large')\n",
        "plt.show()"
      ]
    },
    {
      "cell_type": "markdown",
      "metadata": {
        "id": "2MvtHx4kOrQp"
      },
      "source": [
        "# Vectors, Matrices, and Tensors in Python"
      ]
    },
    {
      "cell_type": "markdown",
      "metadata": {
        "id": "szuXfqpAO5jR"
      },
      "source": [
        "We can create more than just lists of numbers:"
      ]
    },
    {
      "cell_type": "code",
      "execution_count": null,
      "metadata": {
        "id": "Of-wf5YEO4ua"
      },
      "outputs": [],
      "source": [
        "vector = np.ones(shape=(4,))\n",
        "matrix = np.ones(shape=(3, 4))\n",
        "tensor = np.ones(shape=(2, 3, 4))"
      ]
    },
    {
      "cell_type": "code",
      "execution_count": null,
      "metadata": {
        "colab": {
          "base_uri": "https://localhost:8080/"
        },
        "id": "rNtzHjA1Poe7",
        "outputId": "180e4c37-b9c2-4810-d7c5-d0273dd11c59"
      },
      "outputs": [
        {
          "output_type": "stream",
          "name": "stdout",
          "text": [
            "[1. 1. 1. 1.]\n"
          ]
        }
      ],
      "source": [
        "print(vector)"
      ]
    },
    {
      "cell_type": "code",
      "execution_count": null,
      "metadata": {
        "colab": {
          "base_uri": "https://localhost:8080/"
        },
        "id": "HPHs-RaAPMXN",
        "outputId": "b7306b87-71f3-4295-deb0-8fe5b5011f18"
      },
      "outputs": [
        {
          "output_type": "stream",
          "name": "stdout",
          "text": [
            "[[1. 1. 1. 1.]\n",
            " [1. 1. 1. 1.]\n",
            " [1. 1. 1. 1.]]\n"
          ]
        }
      ],
      "source": [
        "print(matrix)"
      ]
    },
    {
      "cell_type": "code",
      "execution_count": null,
      "metadata": {
        "colab": {
          "base_uri": "https://localhost:8080/"
        },
        "id": "Df1pqVNGPhXu",
        "outputId": "56ca2ea0-db75-4033-a10e-b34a136e80ed"
      },
      "outputs": [
        {
          "output_type": "stream",
          "name": "stdout",
          "text": [
            "[[[1. 1. 1. 1.]\n",
            "  [1. 1. 1. 1.]\n",
            "  [1. 1. 1. 1.]]\n",
            "\n",
            " [[1. 1. 1. 1.]\n",
            "  [1. 1. 1. 1.]\n",
            "  [1. 1. 1. 1.]]]\n"
          ]
        }
      ],
      "source": [
        "print(tensor)"
      ]
    },
    {
      "cell_type": "markdown",
      "metadata": {
        "id": "0d_AdW6yPrIc"
      },
      "source": [
        "We can access different elements of these objects using indices:"
      ]
    },
    {
      "cell_type": "code",
      "execution_count": null,
      "metadata": {
        "colab": {
          "base_uri": "https://localhost:8080/"
        },
        "id": "mBk_d7jFPiex",
        "outputId": "d627d306-3fb6-4b64-8a5d-a222c54e2f0f"
      },
      "outputs": [
        {
          "output_type": "stream",
          "name": "stdout",
          "text": [
            "[1. 9. 1. 1.]\n"
          ]
        }
      ],
      "source": [
        "vector[1]=9\n",
        "print(vector)"
      ]
    },
    {
      "cell_type": "code",
      "execution_count": null,
      "metadata": {
        "colab": {
          "base_uri": "https://localhost:8080/"
        },
        "id": "vsgwgAjgPzbL",
        "outputId": "f2f94a45-73d1-411a-82b2-b0f4ba564dfe"
      },
      "outputs": [
        {
          "output_type": "stream",
          "name": "stdout",
          "text": [
            "[[1. 1. 1. 1.]\n",
            " [2. 2. 2. 2.]\n",
            " [1. 1. 1. 1.]]\n"
          ]
        }
      ],
      "source": [
        "matrix[1,:]=2 # single row\n",
        "print(matrix)"
      ]
    },
    {
      "cell_type": "code",
      "execution_count": null,
      "metadata": {
        "colab": {
          "base_uri": "https://localhost:8080/"
        },
        "id": "DM12I0UaP65q",
        "outputId": "3ee25212-8408-44de-e89c-d4cce406d8d5"
      },
      "outputs": [
        {
          "output_type": "stream",
          "name": "stdout",
          "text": [
            "[[1. 1. 1. 4.]\n",
            " [2. 2. 2. 4.]\n",
            " [1. 1. 1. 4.]]\n"
          ]
        }
      ],
      "source": [
        "matrix[:,3]=4 # single column\n",
        "print(matrix)"
      ]
    },
    {
      "cell_type": "code",
      "execution_count": null,
      "metadata": {
        "colab": {
          "base_uri": "https://localhost:8080/"
        },
        "id": "RqXRA7OVAagY",
        "outputId": "7b01298a-9809-491a-91c0-0fc77f769ff8"
      },
      "outputs": [
        {
          "output_type": "execute_result",
          "data": {
            "text/plain": [
              "array([[1., 2., 1.],\n",
              "       [1., 2., 1.],\n",
              "       [1., 2., 1.],\n",
              "       [4., 4., 4.]])"
            ]
          },
          "metadata": {},
          "execution_count": 29
        }
      ],
      "source": [
        "matrix.T # transpose"
      ]
    },
    {
      "cell_type": "code",
      "execution_count": null,
      "metadata": {
        "colab": {
          "base_uri": "https://localhost:8080/"
        },
        "id": "Qmg4ngo0QB25",
        "outputId": "719bb255-deeb-4bd7-beba-019183d1c1a2"
      },
      "outputs": [
        {
          "output_type": "stream",
          "name": "stdout",
          "text": [
            "[[[5. 5. 5. 1.]\n",
            "  [5. 5. 5. 1.]\n",
            "  [1. 1. 1. 1.]]\n",
            "\n",
            " [[1. 1. 1. 1.]\n",
            "  [1. 1. 1. 1.]\n",
            "  [1. 1. 1. 1.]]]\n"
          ]
        }
      ],
      "source": [
        "tensor[0,:2,:3]=5 # subsets of a matrix, up to (but not including) row 2 and up to (but not including) column 3 in matrix 0\n",
        "print(tensor)"
      ]
    },
    {
      "cell_type": "markdown",
      "metadata": {
        "id": "VWD05bYfQjVc"
      },
      "source": [
        "We can use dot products too:"
      ]
    },
    {
      "cell_type": "code",
      "execution_count": null,
      "metadata": {
        "colab": {
          "base_uri": "https://localhost:8080/"
        },
        "id": "Y9oX2vruQinz",
        "outputId": "4a199105-8843-4f34-c632-2f078e6bfc68"
      },
      "outputs": [
        {
          "output_type": "stream",
          "name": "stdout",
          "text": [
            "84.0\n"
          ]
        }
      ],
      "source": [
        "magnitude=vector.dot(vector)\n",
        "print(magnitude)"
      ]
    },
    {
      "cell_type": "code",
      "execution_count": null,
      "metadata": {
        "colab": {
          "base_uri": "https://localhost:8080/"
        },
        "id": "pDKxr_25QMUb",
        "outputId": "43dc337b-4b2c-4ec7-9539-bc6ca3a06c22"
      },
      "outputs": [
        {
          "output_type": "stream",
          "name": "stdout",
          "text": [
            "[15. 26. 15.]\n"
          ]
        }
      ],
      "source": [
        "rotatedvector=matrix.dot(vector)\n",
        "print(rotatedvector)"
      ]
    },
    {
      "cell_type": "code",
      "execution_count": null,
      "metadata": {
        "colab": {
          "base_uri": "https://localhost:8080/"
        },
        "id": "oP105H-PAmf5",
        "outputId": "319009a2-157b-4545-b4dd-503f8b94020b"
      },
      "outputs": [
        {
          "output_type": "execute_result",
          "data": {
            "text/plain": [
              "array([[19., 22., 19.],\n",
              "       [22., 28., 22.],\n",
              "       [19., 22., 19.]])"
            ]
          },
          "metadata": {},
          "execution_count": 33
        }
      ],
      "source": [
        "matrix.dot(matrix.T)"
      ]
    },
    {
      "cell_type": "markdown",
      "metadata": {
        "id": "-xJj5gUmT7hN"
      },
      "source": [
        "We can use `np.einsum` to do something fancier, and evaluate expressions like $x^{ij}y_{jk}=z^{i}_{k}$, where repeated indices are summed over (called Einstein summation notation, seen often in General Relativity).  You can find some documenation on `numpy.einsum` [here](https://numpy.org/doc/stable/reference/generated/numpy.einsum.html)."
      ]
    },
    {
      "cell_type": "code",
      "execution_count": null,
      "metadata": {
        "colab": {
          "base_uri": "https://localhost:8080/"
        },
        "id": "GkJtDwcIU5Jq",
        "outputId": "2cf65105-3db7-4890-c32b-6819b3dcd909"
      },
      "outputs": [
        {
          "output_type": "stream",
          "name": "stdout",
          "text": [
            "[[ 0  1  2  3]\n",
            " [ 4  5  6  7]\n",
            " [ 8  9 10 11]\n",
            " [12 13 14 15]]\n",
            "[[16 17 18 19]\n",
            " [20 21 22 23]\n",
            " [24 25 26 27]\n",
            " [28 29 30 31]]\n",
            "[[ 152  158  164  170]\n",
            " [ 504  526  548  570]\n",
            " [ 856  894  932  970]\n",
            " [1208 1262 1316 1370]]\n"
          ]
        }
      ],
      "source": [
        "x=np.arange(16).reshape(4,4) # make a matrix out of consecutive numbers\n",
        "y=(np.arange(16)+16).reshape(4,4)\n",
        "print(x)\n",
        "print(y)\n",
        "print(np.einsum('ij,jk',x,y))"
      ]
    },
    {
      "cell_type": "markdown",
      "metadata": {
        "id": "6oozlCHvTJx4"
      },
      "source": [
        "# Problem 2 (30 points)\n",
        "\n",
        "Let's write a function that will evaluate the tensor expression $g^{il}\\Gamma_{ki}^{m}x^{k}$.  Use `np.einsum` to do the evaluation within the skeleton function below."
      ]
    },
    {
      "cell_type": "code",
      "execution_count": null,
      "metadata": {
        "id": "kAKYUn6hQ2Iw"
      },
      "outputs": [],
      "source": [
        "def tensor_expr(g, Gamma, x, D=4):\n",
        "    \"\"\"Evaluate the tensor expression above.\n",
        "    \n",
        "    Parameters\n",
        "    ----------\n",
        "    g : array\n",
        "        Numpy array of shape (D, D)\n",
        "    Gamma : array\n",
        "        Numpy array of shape (D, D, D)\n",
        "    x : array\n",
        "        Numpy array of shape (D,)\n",
        "    D : int\n",
        "        Dimension of input tensors.\n",
        "        \n",
        "    Returns\n",
        "    -------\n",
        "    array\n",
        "        Numpy array of shape (D, D) that evaluates the tensor expression.\n",
        "    \"\"\"\n",
        "    assert g.shape == (D, D)\n",
        "    assert Gamma.shape == (D, D, D)\n",
        "    assert x.shape == (D,)\n",
        "    \n",
        "    # your code here, setting 'result' appropriately\n",
        "    # y1 = np.einsum('li, kim -> lmk', g, Gamma)\n",
        "    # y2 = np.einsum('lmk, k -> lm', y1, x)\n",
        "    # This gives me the first 11 position, but the rest, not so much. Why? Maybe I can see later. \n",
        "    y1 = np.einsum('mki,k->mi', Gamma, x)\n",
        "    y2 = np.einsum('il,mi->lm',g,y1)\n",
        "   \n",
        "    return(y2)\n"
      ]
    },
    {
      "cell_type": "code",
      "execution_count": null,
      "metadata": {
        "colab": {
          "base_uri": "https://localhost:8080/"
        },
        "id": "uFpyrrOXTuni",
        "outputId": "ab2be20a-60ed-48fd-e0c5-5d52d858f929"
      },
      "outputs": [
        {
          "output_type": "stream",
          "name": "stdout",
          "text": [
            "[[ 1680  3984  6288  8592]\n",
            " [ 1940  4628  7316 10004]\n",
            " [ 2200  5272  8344 11416]\n",
            " [ 2460  5916  9372 12828]]\n"
          ]
        }
      ],
      "source": [
        "# A correct solution should pass the following tests:\n",
        "g = np.arange(4 ** 2).reshape(4, 4)\n",
        "Gamma = np.arange(4 ** 3).reshape(4, 4, 4)\n",
        "x = np.arange(4)\n",
        "y = tensor_expr(g, Gamma, x, D=4)\n",
        "print(y)\n",
        "\n",
        "assert np.array_equal(\n",
        "    y,\n",
        "    [[ 1680,  3984,  6288,  8592], [ 1940,  4628,  7316, 10004],\n",
        "     [ 2200,  5272,  8344, 11416], [ 2460,  5916,  9372, 12828]])\n",
        "\n"
      ]
    },
    {
      "cell_type": "markdown",
      "metadata": {
        "id": "0Q0czTzwTtoN"
      },
      "source": [
        "# Loss functions"
      ]
    },
    {
      "cell_type": "markdown",
      "metadata": {
        "id": "gOIsIqDRdYxY"
      },
      "source": [
        "We calculated the objective function (also called the loss or loss function, the error, and other names) as:\n",
        "\n",
        "$$\\mathcal{L} = -\\frac{1}{m}\\sum_{j=1}^{m} \\left[\\sum_{i=1}^{k} p_{i}\\ln q_{i}\\right]_{j}$$\n",
        "\n",
        "where $j$ is iterating over events, and $i$ is iterating over categories.  But we can more generally write this as:\n",
        "\n",
        "$$\\mathcal{L} = \\frac{1}{m}\\sum_{j=1}^{m} \\left[H(p,q)\\right]_{j}$$\n",
        "\n",
        "where $H(p,q)$ is any appropriate objective function.  Depending on the nature of $H$, the objective function $\\mathcal{L}$ for a given set of events may be easier/harder to calculate.  "
      ]
    },
    {
      "cell_type": "markdown",
      "metadata": {
        "id": "4qjcwZnHNUeY"
      },
      "source": [
        "For example, let's consider the case where $H(p,q)$ is just defined by the mean-square-error:\n",
        "\n",
        "$$ \\mathcal{L}=\\frac{1}{m}\\sum_{j=1}^{m} \\left[ \\left(f(x_j)-y(x_j)\\right)^2 \\right]_{j}$$\n",
        "\n",
        "where $f(x_j)$ represents the output of the algorithm and $y(x_j)$ represents the true classification label for event with features $x_j$.  "
      ]
    },
    {
      "cell_type": "markdown",
      "metadata": {
        "id": "D-ud1Pj7NWSn"
      },
      "source": [
        "If we're not interested in classification, but instead we want to predict a value on a continuum, then that's a problem for *regression*.  In that case, we adjust our interpretation of the elements in the formula above: `m` is the number of data points in a distribution that we're comparing to, rather than the number of events that make up the distribution.  "
      ]
    },
    {
      "cell_type": "markdown",
      "metadata": {
        "id": "TmbyDUC2F4zq"
      },
      "source": [
        "# Problem 3 (40 points)"
      ]
    },
    {
      "cell_type": "markdown",
      "metadata": {
        "id": "aMjeCAtAF7Lv"
      },
      "source": [
        "Let's get some practice computing $\\mathcal{L}$ numerically.  We'll create a dataset and fit it using several functional forms, testing the objective function as we go to see which one performs best."
      ]
    },
    {
      "cell_type": "code",
      "execution_count": 162,
      "metadata": {
        "id": "xA5bgNjyF2HV"
      },
      "outputs": [],
      "source": [
        "N=1000 # number of events to generate\n",
        "generator = np.random.RandomState(seed=123)\n",
        "ds=generator.normal(loc=2,scale=3,size=N)"
      ]
    },
    {
      "cell_type": "markdown",
      "metadata": {
        "id": "vqN9wcxJHLMO"
      },
      "source": [
        "Plot the normal distribution above, saving the bin entries as `counts` and the bin edges as `bins`.  It's best to normalize this distribution to unit area, otherwise the results below may become unstable."
      ]
    },
    {
      "cell_type": "code",
      "execution_count": 198,
      "metadata": {
        "id": "AXCQXzaHHSYP",
        "colab": {
          "base_uri": "https://localhost:8080/",
          "height": 456
        },
        "outputId": "c78c5ca4-3f40-4c3e-9347-4065de6fa2e1"
      },
      "outputs": [
        {
          "output_type": "stream",
          "name": "stdout",
          "text": [
            "counts = [0.         0.         0.00200602 0.00300903 0.00601805 0.01504514\n",
            " 0.02808425 0.0441324  0.07522568 0.0892678  0.11735206 0.14142427\n",
            " 0.13941825 0.09027081 0.09628887 0.06920762 0.04613842 0.02607823\n",
            " 0.00802407 0.00300903]\n",
            "\n",
            "length of bins = 21\n",
            "bins= [-10.  -9.  -8.  -7.  -6.  -5.  -4.  -3.  -2.  -1.   0.   1.   2.   3.\n",
            "   4.   5.   6.   7.   8.   9.  10.]\n",
            "unk1 = <a list of 20 Patch objects>\n",
            "bin_mps = [-9.5 -8.5 -7.5 -6.5 -5.5 -4.5 -3.5 -2.5 -1.5 -0.5  0.5  1.5  2.5  3.5\n",
            "  4.5  5.5  6.5  7.5  8.5  9.5]\n"
          ]
        },
        {
          "output_type": "display_data",
          "data": {
            "text/plain": [
              "<Figure size 432x288 with 1 Axes>"
            ],
            "image/png": "[encoded data removed]"
          },
          "metadata": {
            "needs_background": "light"
          }
        }
      ],
      "source": [
        "m=20 # number of bins in the histogram\n",
        "histrange=(-10,10) # range of the histogram\n",
        "\n",
        "# your code here\n",
        "\n",
        "plt.hist(ds, m, histrange, density = true)\n",
        "\n",
        "counts, bins, unk1 = plt.hist(ds, m, histrange, density = true)\n",
        "bin_mps = 0.5 * ( bins[1:] + bins[:-1] ) \n",
        "\n",
        "print(\"counts =\", counts)\n",
        "print()\n",
        "print(\"length of bins =\", len(bins))\n",
        "print(\"bins=\", bins)\n",
        "print(\"unk1 =\", unk1)\n",
        "print(\"bin_mps =\", bin_mps)"
      ]
    },
    {
      "cell_type": "markdown",
      "metadata": {
        "id": "AusXdxrJIc-P"
      },
      "source": [
        "Now compute the objective function (using the mean-square-error formula above) assuming: \n",
        "\n",
        "$$f(x)=\\frac{N}{\\sqrt{2\\pi}\\sigma}e^{-\\frac{1}{2\\sigma^2}(x-\\mu)^2}$$\n",
        "\n",
        "guessing that the mean is $\\mu=2.5$ and the width is $\\sigma=2.5$.  Remember, in this case we're going to iterate over the histogram bins, not the individual events!  Finally, keep in mind that the bin contents should really be considered to be at the bin *centers*, not the bin *edges*."
      ]
    },
    {
      "cell_type": "code",
      "execution_count": 211,
      "metadata": {
        "colab": {
          "base_uri": "https://localhost:8080/"
        },
        "id": "q8jKeRrTHUyn",
        "outputId": "92385cc3-cf0f-477f-b714-f376274b5728"
      },
      "outputs": [
        {
          "output_type": "stream",
          "name": "stdout",
          "text": [
            "f(x) = [6.32131877e-04 3.98024255e-03 2.13562142e-02 9.76454206e-02\n",
            " 3.80445434e-01 1.26312332e+00 3.57364999e+00 8.61571172e+00\n",
            " 1.77004043e+01 3.09876110e+01 4.62280835e+01 5.87674118e+01\n",
            " 6.36619772e+01 5.87674118e+01 4.62280835e+01 3.09876110e+01\n",
            " 1.77004043e+01 8.61571172e+00 3.57364999e+00 1.26312332e+00]\n",
            "20\n",
            "<class 'numpy.ndarray'>\n",
            "length of counts =  20\n"
          ]
        }
      ],
      "source": [
        "# your code here\n",
        "\n",
        "sig = 2.5\n",
        "mu = 2.5\n",
        "f_x = lambda x: N/(2*np.pi*sig)*np.exp(-1/(2*sig**2)*(x-mu)**2)\n",
        "\n",
        "# def F(x):\n",
        "#   f =   N / (2* np.pi*sig ) * np.exp( -1/(2*sig**2)*(x-mu)**2 )\n",
        "#   return f\n",
        "#print(F(0))\n",
        "\n",
        "print(\"f(x) =\", f_x(bin_mps))\n",
        "print(len(bin_mps))\n",
        "print(type(bin_mps))\n",
        "print(\"length of counts = \", len(counts))\n",
        "\n",
        "#Classmates recommend:\n",
        "x = np.arange(-9.5, 10.5, 1)"
      ]
    },
    {
      "cell_type": "code",
      "source": [
        "d = f_x(x) - counts\n",
        "\n",
        "print(  f_x(counts) - bin_mps  )\n",
        "print(d)\n",
        "\n",
        "#This isn't correct. I'm not sue where to put the midpoints and how to implement the counts. \n",
        "#Nor do I understand why the two prints are coming up as identicle. \n",
        "\n",
        "def L(d):\n",
        "  for i in d: \n",
        "    L = 1/m * np.sum( (  d  )**2 , m)\n",
        "  return L\n",
        "\n",
        "print(  L( d ) )\n",
        "\n",
        "# print(len(f_x(bin_mps)), len(counts))"
      ],
      "metadata": {
        "colab": {
          "base_uri": "https://localhost:8080/",
          "height": 130
        },
        "id": "bMZaQzpibd6G",
        "outputId": "128d2c44-c550-4df1-c66a-983fad3a79b9"
      },
      "execution_count": 217,
      "outputs": [
        {
          "output_type": "error",
          "ename": "SyntaxError",
          "evalue": "ignored",
          "traceback": [
            "\u001b[0;36m  File \u001b[0;32m\"<ipython-input-217-dcc8f1165bed>\"\u001b[0;36m, line \u001b[0;32m11\u001b[0m\n\u001b[0;31m    L = [for i in d: 1/m * np.sum( (  i  )**2 , m)]\u001b[0m\n\u001b[0m           ^\u001b[0m\n\u001b[0;31mSyntaxError\u001b[0m\u001b[0;31m:\u001b[0m invalid syntax\n"
          ]
        }
      ]
    },
    {
      "cell_type": "markdown",
      "metadata": {
        "id": "sLeARoO-QkHs"
      },
      "source": [
        "Now put this inside of a loop, and check values of the mean in steps of 0.1 between 0 and 5 to find the minimum value of the objective function.  Keep the guess that $\\sigma=2.5$ as before:"
      ]
    },
    {
      "cell_type": "code",
      "execution_count": 202,
      "metadata": {
        "id": "Hv96hJBQQ_uV",
        "colab": {
          "base_uri": "https://localhost:8080/"
        },
        "outputId": "0e65ed80-ecbc-403d-c574-f4146ebf855d"
      },
      "outputs": [
        {
          "output_type": "stream",
          "name": "stdout",
          "text": [
            "[0.1, 0.2, 0.30000000000000004, 0.4, 0.5, 0.6, 0.7, 0.7999999999999999, 0.8999999999999999, 0.9999999999999999, 1.0999999999999999, 1.2, 1.3, 1.4000000000000001, 1.5000000000000002, 1.6000000000000003, 1.7000000000000004, 1.8000000000000005, 1.9000000000000006, 2.0000000000000004, 2.1000000000000005, 2.2000000000000006, 2.3000000000000007, 2.400000000000001, 2.500000000000001, 2.600000000000001, 2.700000000000001, 2.800000000000001, 2.9000000000000012, 3.0000000000000013, 3.1000000000000014, 3.2000000000000015, 3.3000000000000016, 3.4000000000000017, 3.5000000000000018, 3.600000000000002, 3.700000000000002, 3.800000000000002, 3.900000000000002, 4.000000000000002, 4.100000000000001, 4.200000000000001, 4.300000000000001, 4.4, 4.5, 4.6, 4.699999999999999, 4.799999999999999, 4.899999999999999, 4.999999999999998, 5.099999999999998]\n"
          ]
        }
      ],
      "source": [
        "# your code here\n",
        "\n",
        "mu1=[]\n",
        "i=0\n",
        "while 0<= i <= 5:\n",
        "  i = i + 0.1\n",
        "  mu1.append(i)\n",
        "print(mu1)"
      ]
    },
    {
      "cell_type": "markdown",
      "metadata": {
        "id": "ClXEoB3VTkZJ"
      },
      "source": [
        "Now do the same thing with the width $\\sigma$, scanning from 0.1 to 5 in steps of 0.1, this time assuming for $\\mu$ the best guess of $\\mu$ from the loop above:"
      ]
    },
    {
      "cell_type": "code",
      "execution_count": 203,
      "metadata": {
        "id": "HGowO6UgRsFn",
        "colab": {
          "base_uri": "https://localhost:8080/"
        },
        "outputId": "15dadac6-3f55-4d05-94f0-55a3260af056"
      },
      "outputs": [
        {
          "output_type": "stream",
          "name": "stdout",
          "text": [
            "[0.1, 0.2, 0.30000000000000004, 0.4, 0.5, 0.6, 0.7, 0.7999999999999999, 0.8999999999999999, 0.9999999999999999, 1.0999999999999999, 1.2, 1.3, 1.4000000000000001, 1.5000000000000002, 1.6000000000000003, 1.7000000000000004, 1.8000000000000005, 1.9000000000000006, 2.0000000000000004, 2.1000000000000005, 2.2000000000000006, 2.3000000000000007, 2.400000000000001, 2.500000000000001, 2.600000000000001, 2.700000000000001, 2.800000000000001, 2.9000000000000012, 3.0000000000000013, 3.1000000000000014, 3.2000000000000015, 3.3000000000000016, 3.4000000000000017, 3.5000000000000018, 3.600000000000002, 3.700000000000002, 3.800000000000002, 3.900000000000002, 4.000000000000002, 4.100000000000001, 4.200000000000001, 4.300000000000001, 4.4, 4.5, 4.6, 4.699999999999999, 4.799999999999999, 4.899999999999999, 4.999999999999998, 5.099999999999998]\n"
          ]
        }
      ],
      "source": [
        "# your code here\n",
        "sigma = []\n",
        "i=0\n",
        "while 0<= i <= 5:\n",
        "  i = i + 0.1\n",
        "  sigma.append(i)\n",
        "print(sigma)\n",
        "\n",
        "#without a best guess for mu, I obviously cannot obtain sigma. "
      ]
    },
    {
      "cell_type": "markdown",
      "metadata": {
        "id": "DrJE7mwwaSqY"
      },
      "source": [
        "This is a bit of a brute-force approach.  We'll explore gradient descent for finding the local minima in a future homework."
      ]
    }
  ],
  "metadata": {
    "colab": {
      "collapsed_sections": [],
      "name": "Copy of HW1.ipynb",
      "provenance": [],
      "include_colab_link": true
    },
    "kernelspec": {
      "display_name": "Python 3 (ipykernel)",
      "language": "python",
      "name": "python3"
    },
    "language_info": {
      "codemirror_mode": {
        "name": "ipython",
        "version": 3
      },
      "file_extension": ".py",
      "mimetype": "text/x-python",
      "name": "python",
      "nbconvert_exporter": "python",
      "pygments_lexer": "ipython3",
      "version": "3.7.11"
    }
  },
  "nbformat": 4,
  "nbformat_minor": 0
}